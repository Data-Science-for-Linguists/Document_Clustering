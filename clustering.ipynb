{
 "cells": [
  {
   "cell_type": "markdown",
   "metadata": {},
   "source": [
    "### Document Clustering\n",
    "NEW REPLACEMENT script.\n",
    "\n",
    "Since downloading a wikipedia dump, I've started my code over from scratch. `reformat.py` contains some important code to preprocess the outputted wiki dump from the wikiextractor I used.\n",
    "\n",
    "This notebook will open a few sample JSON files and attempt to cluster them."
   ]
  },
  {
   "cell_type": "code",
   "execution_count": 8,
   "metadata": {
    "collapsed": true
   },
   "outputs": [],
   "source": [
    "import json\n",
    "import glob"
   ]
  },
  {
   "cell_type": "code",
   "execution_count": 9,
   "metadata": {},
   "outputs": [
    {
     "data": {
      "text/plain": [
       "dict_keys(['text', 'title', 'url', 'id'])"
      ]
     },
     "execution_count": 9,
     "metadata": {},
     "output_type": "execute_result"
    }
   ],
   "source": [
    "wiki_articles = []\n",
    "for x in glob.glob('data/wiki*.json'):\n",
    "    new_articles = json.load(open(x))['articles']\n",
    "    wiki_articles += new_articles\n",
    "wiki_articles[0].keys()"
   ]
  },
  {
   "cell_type": "code",
   "execution_count": 11,
   "metadata": {},
   "outputs": [
    {
     "name": "stdout",
     "output_type": "stream",
     "text": [
      "title : Anarcho-capitalism\n",
      "url : https://en.wikipedia.org/wiki?curid=1023\n",
      "id : 1023\n",
      "title : August 9\n",
      "url : https://en.wikipedia.org/wiki?curid=1027\n",
      "id : 1027\n",
      "title : Aristophanes\n",
      "url : https://en.wikipedia.org/wiki?curid=1028\n",
      "id : 1028\n",
      "title : Albert Schweitzer\n",
      "url : https://en.wikipedia.org/wiki?curid=1029\n",
      "id : 1029\n",
      "title : Austrian School\n",
      "url : https://en.wikipedia.org/wiki?curid=1030\n",
      "id : 1030\n"
     ]
    }
   ],
   "source": [
    "for article in wiki_articles[:5]:\n",
    "    for key, val in article.items():\n",
    "        if key != 'text':\n",
    "            print(key, ':', val)"
   ]
  },
  {
   "cell_type": "markdown",
   "metadata": {},
   "source": [
    "Looks like my JSON conversions worked! The only problem now, is finding links that are actually related to one another so I can effectively test my clustering algorithm. I don't have my data pre-organized by topics..."
   ]
  },
  {
   "cell_type": "code",
   "execution_count": null,
   "metadata": {
    "collapsed": true
   },
   "outputs": [],
   "source": []
  }
 ],
 "metadata": {
  "kernelspec": {
   "display_name": "Python 3",
   "language": "python",
   "name": "python3"
  },
  "language_info": {
   "codemirror_mode": {
    "name": "ipython",
    "version": 3
   },
   "file_extension": ".py",
   "mimetype": "text/x-python",
   "name": "python",
   "nbconvert_exporter": "python",
   "pygments_lexer": "ipython3",
   "version": "3.5.2"
  }
 },
 "nbformat": 4,
 "nbformat_minor": 2
}
