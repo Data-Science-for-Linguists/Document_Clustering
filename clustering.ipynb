{
 "cells": [
  {
   "cell_type": "markdown",
   "metadata": {},
   "source": [
    "### Document Clustering\n",
    "NEW REPLACEMENT script.\n",
    "\n",
    "Since downloading a wikipedia dump, I've started my code over from scratch. `reformat.py` contains some important code to preprocess the This notebook will open a few sample JSON files and attempt to cluster them."
   ]
  },
  {
   "cell_type": "code",
   "execution_count": 1,
   "metadata": {
    "collapsed": true
   },
   "outputs": [],
   "source": [
    "import json\n",
    "import glob"
   ]
  },
  {
   "cell_type": "code",
   "execution_count": 21,
   "metadata": {},
   "outputs": [
    {
     "data": {
      "text/plain": [
       "dict_keys(['text', 'title', 'url', 'id'])"
      ]
     },
     "execution_count": 21,
     "metadata": {},
     "output_type": "execute_result"
    }
   ],
   "source": [
    "wiki_articles = []\n",
    "for x in glob.glob('data/wiki*.json'):\n",
    "    new_articles = json.load(open(x))['articles']\n",
    "    wiki_articles += new_articles\n",
    "wiki_articles[0].keys()"
   ]
  },
  {
   "cell_type": "code",
   "execution_count": 32,
   "metadata": {},
   "outputs": [
    {
     "name": "stdout",
     "output_type": "stream",
     "text": [
      "title : August 9\n",
      "url : https://en.wikipedia.org/wiki?curid=1027\n",
      "id : 1027\n"
     ]
    }
   ],
   "source": [
    "for key, val in wiki_articles[1].items():\n",
    "    if key != 'text':\n",
    "        print(key, ':', val)"
   ]
  },
  {
   "cell_type": "code",
   "execution_count": null,
   "metadata": {},
   "outputs": [],
   "source": []
  },
  {
   "cell_type": "code",
   "execution_count": null,
   "metadata": {
    "collapsed": true
   },
   "outputs": [],
   "source": []
  }
 ],
 "metadata": {
  "kernelspec": {
   "display_name": "Python 3",
   "language": "python",
   "name": "python3"
  },
  "language_info": {
   "codemirror_mode": {
    "name": "ipython",
    "version": 3
   },
   "file_extension": ".py",
   "mimetype": "text/x-python",
   "name": "python",
   "nbconvert_exporter": "python",
   "pygments_lexer": "ipython3",
   "version": "3.5.2"
  }
 },
 "nbformat": 4,
 "nbformat_minor": 2
}
