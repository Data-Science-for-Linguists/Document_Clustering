{
 "cells": [
  {
   "cell_type": "code",
   "execution_count": 1,
   "metadata": {
    "collapsed": true
   },
   "outputs": [],
   "source": [
    "import wikipedia\n",
    "import requests\n",
    "from bs4 import BeautifulSoup\n",
    "from gensim.summarization import keywords"
   ]
  },
  {
   "cell_type": "markdown",
   "metadata": {},
   "source": [
    "### Getting Data\n",
    "For this project, all data will be found on publicly available web pages. I'll be using the `requests` and `bs4` modules to acquire data. \n",
    "\n",
    "My goal is to make this project generalizable and able to work with any list of webpages/URLs. Because of this, I'm focusing on understanding how to work with a small dataset of a few wiki pages for now.\n",
    "\n",
    "Eventually, I will separate the scraping portion into a script and create a `data/` directory, but that isn't necessary for now.\n",
    "\n",
    "### Sharing Data\n",
    "Because all of the data I'm using is publicly available on the internet, everyone will have access to all of my data. It will all be either scraped data or built-in corpora (like `gensim.corpora.wikicorpus`). The `data/` directory will probably remain local and gitignored, but I will include a script that can be run to generate everything in `data/`."
   ]
  },
  {
   "cell_type": "code",
   "execution_count": 32,
   "metadata": {},
   "outputs": [],
   "source": [
    "# this can get the data we need\n",
    "def _get_with_requests(link): \n",
    "    import lxml\n",
    "    req = requests.get(link).text\n",
    "    soup = BeautifulSoup(req, \"html.parser\")\n",
    "    # remove javascript/css \n",
    "    [s.decompose() for s in soup.findAll(['script', 'style'])] \n",
    "    \n",
    "    return soup.text\n",
    "\n",
    "def get_topics(content):\n",
    "    return keywords(content, words=2)"
   ]
  },
  {
   "cell_type": "code",
   "execution_count": 33,
   "metadata": {},
   "outputs": [],
   "source": [
    "'''\n",
    "Pretend we have a list of topics, say Apple, Orange, Yankees, Red Sox. \n",
    "Get data, figure out topics, and group.\n",
    "'''\n",
    "# for wikipedia pages, use wikipedia api to guarantee nice data\n",
    "pages = ['Apple', 'Orange_(fruit)', 'Yankees', 'Red Sox']\n",
    "pages_content = {page:wikipedia.page(page).content for page in pages}\n"
   ]
  },
  {
   "cell_type": "code",
   "execution_count": 31,
   "metadata": {},
   "outputs": [
    {
     "name": "stdout",
     "output_type": "stream",
     "text": [
      "Apple topics: apple\n",
      "apples\n",
      "fruit\n",
      "fruits\n",
      "Orange_(fruit) topics: orange\n",
      "oranges\n",
      "orangers\n",
      "grown\n",
      "Yankees topics: yankees\n",
      "yankee\n",
      "team\n",
      "teams\n",
      "teamed\n",
      "Red Sox topics: sox\n",
      "boston\n",
      "bostons\n"
     ]
    }
   ],
   "source": [
    "#  Extract topics from each page and print.\n",
    "for page in pages_content:\n",
    "    print(page, 'topics:', get_topics(pages_content[page]))"
   ]
  },
  {
   "cell_type": "markdown",
   "metadata": {},
   "source": [
    "### \n",
    "Include a markdown cell where you outline a couple of options (or a single option, if you are fairly sure) regarding the \"sharing plan\" for your data. You should plan out how much you will be sharing with (1) the world and (2) our class. Make sure to include reasoning behind each."
   ]
  },
  {
   "cell_type": "code",
   "execution_count": null,
   "metadata": {
    "collapsed": true
   },
   "outputs": [],
   "source": []
  },
  {
   "cell_type": "code",
   "execution_count": null,
   "metadata": {
    "collapsed": true
   },
   "outputs": [],
   "source": []
  }
 ],
 "metadata": {
  "kernelspec": {
   "display_name": "Python 3",
   "language": "python",
   "name": "python3"
  },
  "language_info": {
   "codemirror_mode": {
    "name": "ipython",
    "version": 3
   },
   "file_extension": ".py",
   "mimetype": "text/x-python",
   "name": "python",
   "nbconvert_exporter": "python",
   "pygments_lexer": "ipython3",
   "version": "3.5.2"
  }
 },
 "nbformat": 4,
 "nbformat_minor": 2
}
