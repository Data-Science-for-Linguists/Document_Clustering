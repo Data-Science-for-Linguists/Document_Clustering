{
 "cells": [
  {
   "cell_type": "code",
   "execution_count": 1,
   "metadata": {
    "collapsed": true
   },
   "outputs": [],
   "source": [
    "import wikipedia\n",
    "import requests\n",
    "from bs4 import BeautifulSoup"
   ]
  },
  {
   "cell_type": "code",
   "execution_count": 6,
   "metadata": {
    "collapsed": true
   },
   "outputs": [],
   "source": [
    "# this can get the data we need\n",
    "def _get_with_requests(link): \n",
    "    import lxml\n",
    "    req = requests.get(link).text\n",
    "    soup = BeautifulSoup(req, \"html.parser\")\n",
    "    print(len(soup.text))\n",
    "    [s.decompose() for s in soup.findAll(['script', 'style'])] # strip javascript\n",
    "    \n",
    "    return soup.text"
   ]
  },
  {
   "cell_type": "code",
   "execution_count": 11,
   "metadata": {},
   "outputs": [],
   "source": [
    "'''\n",
    "Pretend we have a list of topics, say Apple, Orange, Yankees, Red Sox. \n",
    "Get data, figure out topics, and group.\n",
    "'''\n",
    "# for wikipedia pages, use wikipedia api to guarantee nice data\n",
    "pages = ['Apple', 'Orange_(fruit)', 'Yankees', 'Red Sox']\n",
    "pages_content = [wikipedia.page(page).content for page in pages]\n"
   ]
  },
  {
   "cell_type": "code",
   "execution_count": 8,
   "metadata": {},
   "outputs": [
    {
     "name": "stdout",
     "output_type": "stream",
     "text": [
      "23171\n"
     ]
    }
   ],
   "source": []
  },
  {
   "cell_type": "code",
   "execution_count": null,
   "metadata": {},
   "outputs": [],
   "source": []
  },
  {
   "cell_type": "code",
   "execution_count": null,
   "metadata": {
    "collapsed": true
   },
   "outputs": [],
   "source": []
  },
  {
   "cell_type": "code",
   "execution_count": null,
   "metadata": {
    "collapsed": true
   },
   "outputs": [],
   "source": []
  }
 ],
 "metadata": {
  "kernelspec": {
   "display_name": "Python 3",
   "language": "python",
   "name": "python3"
  },
  "language_info": {
   "codemirror_mode": {
    "name": "ipython",
    "version": 3
   },
   "file_extension": ".py",
   "mimetype": "text/x-python",
   "name": "python",
   "nbconvert_exporter": "python",
   "pygments_lexer": "ipython3",
   "version": "3.5.2"
  }
 },
 "nbformat": 4,
 "nbformat_minor": 2
}
