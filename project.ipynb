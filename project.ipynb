{
 "cells": [
  {
   "cell_type": "code",
   "execution_count": 1,
   "metadata": {},
   "outputs": [
    {
     "name": "stderr",
     "output_type": "stream",
     "text": [
      "Using TensorFlow backend.\n"
     ]
    }
   ],
   "source": [
    "import wikipedia\n",
    "import requests\n",
    "from bs4 import BeautifulSoup\n",
    "from gensim.summarization import keywords"
   ]
  },
  {
   "cell_type": "markdown",
   "metadata": {},
   "source": [
    "### Getting Data\n",
    "For this project, all data will be found on publicly available web pages. I'll be using the `requests` and `bs4` modules to acquire data. \n",
    "\n",
    "My goal is to make this project generalizable and able to work with any list of webpages/URLs. Because of this, I'm focusing on understanding how to work with a small dataset of a few wiki pages for now.\n",
    "\n",
    "Eventually, I will separate the scraping portion into a script and create a `data/` directory, but that isn't necessary for now.\n",
    "\n",
    "### Sharing Data\n",
    "Because all of the data I'm using is publicly available on the internet, everyone will have access to all of my data. It will all be either scraped data or built-in corpora (like `gensim.corpora.wikicorpus`). The `data/` directory will probably remain local and gitignored, but I will include a script that can be run to generate everything in `data/`."
   ]
  },
  {
   "cell_type": "code",
   "execution_count": 20,
   "metadata": {},
   "outputs": [],
   "source": [
    "# this can get the data we need\n",
    "def _get_with_requests(link): \n",
    "    import lxml\n",
    "    req = requests.get(link).text\n",
    "    soup = BeautifulSoup(req, \"html.parser\")\n",
    "    # remove javascript/css \n",
    "    [s.decompose() for s in soup.findAll(['script', 'style'])] \n",
    "    \n",
    "    return soup.text\n",
    "\n",
    "def get_topics(content):\n",
    "    '''\n",
    "    takes string of content and returns list of keywords\n",
    "    '''\n",
    "    # definitely need to look into more interesting data to rank keywords\n",
    "    # what exactly does words do... https://radimrehurek.com/gensim/summarization/keywords.html\n",
    "    return keywords(content, words=10, lemmatize=True).split('\\n')"
   ]
  },
  {
   "cell_type": "code",
   "execution_count": 21,
   "metadata": {},
   "outputs": [],
   "source": [
    "'''\n",
    "Pretend we have a list of topics, say Apple, Orange, Yankees, Red Sox. \n",
    "Get data, figure out topics, and group.\n",
    "'''\n",
    "# for wikipedia pages, use wikipedia api to guarantee nice data\n",
    "pages = ['Apple', 'Orange_(fruit)', 'Yankees', 'Red Sox']\n",
    "pages_content = {page:wikipedia.page(page).content for page in pages}\n"
   ]
  },
  {
   "cell_type": "code",
   "execution_count": 24,
   "metadata": {},
   "outputs": [],
   "source": [
    "# Extract topics from each page\n",
    "# Topics will be used for section naming, not for grouping. Grouping w/ paragraph2vec?\n",
    "topic_dict = {page:get_topics(content) for page, content in pages_content.items()}"
   ]
  },
  {
   "cell_type": "markdown",
   "metadata": {},
   "source": [
    "### Stats\n",
    "This project is designed to be generic and should work for any list of URLs (with varying success, of course).\n",
    "This section prints some stats and visualizes the topics."
   ]
  },
  {
   "cell_type": "code",
   "execution_count": 23,
   "metadata": {},
   "outputs": [
    {
     "data": {
      "text/plain": [
       "['orange',\n",
       " 'grown',\n",
       " 'fruits',\n",
       " 'citrus',\n",
       " 'tree',\n",
       " 'variety',\n",
       " 'navels',\n",
       " 'florida',\n",
       " 'juice',\n",
       " 'called']"
      ]
     },
     "execution_count": 23,
     "metadata": {},
     "output_type": "execute_result"
    }
   ],
   "source": [
    "topic_dict['Orange_(fruit)']"
   ]
  },
  {
   "cell_type": "code",
   "execution_count": null,
   "metadata": {
    "collapsed": true
   },
   "outputs": [],
   "source": []
  }
 ],
 "metadata": {
  "kernelspec": {
   "display_name": "Python 3",
   "language": "python",
   "name": "python3"
  },
  "language_info": {
   "codemirror_mode": {
    "name": "ipython",
    "version": 3
   },
   "file_extension": ".py",
   "mimetype": "text/x-python",
   "name": "python",
   "nbconvert_exporter": "python",
   "pygments_lexer": "ipython3",
   "version": "3.5.2"
  }
 },
 "nbformat": 4,
 "nbformat_minor": 2
}
